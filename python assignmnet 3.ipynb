{
 "cells": [
  {
   "cell_type": "markdown",
   "metadata": {},
   "source": [
    "# my reduce function"
   ]
  },
  {
   "cell_type": "code",
   "execution_count": 1,
   "metadata": {},
   "outputs": [
    {
     "name": "stdout",
     "output_type": "stream",
     "text": [
      "14\n"
     ]
    }
   ],
   "source": [
    "def ADDITION(x1, x2):  #CREATED A FUNCTION FOR ADDITION \n",
    "    return x1 + x2\n",
    "\n",
    "def my_reduce(function, iterator):    #CREATED A MY_REDUCE FUNTION \n",
    "    initial_value = 0               #GIV INTIAL VALUE AS 0\n",
    "    for i in iterator:\n",
    "        initial_value = function(initial_value, i)\n",
    "    return initial_value\n",
    "\n",
    "print(my_reduce(ADDITION, [5, 2, 3, 4]))"
   ]
  },
  {
   "cell_type": "markdown",
   "metadata": {},
   "source": [
    "# my filter function "
   ]
  },
  {
   "cell_type": "code",
   "execution_count": null,
   "metadata": {},
   "outputs": [],
   "source": [
    "def evenornot(it): \n",
    "    #//initial_value = 0  \n",
    "    if it % 2==0:\n",
    "        return True\n",
    "    \n",
    "    \n",
    "\n",
    "def my_filter(func, itr):\n",
    "     \n",
    "    for i   itr:\n",
    "        variable=  func(i)\n",
    "        print(variable)\n",
    "   \n",
    "\n",
    "#f=[]    \n",
    "l=[3,4,5,6,7]        \n",
    "#s = my_filter(evenornot,l)\n",
    "\n",
    "list(my_filter(evenornot,l))\n",
    "    #\n",
    " "
   ]
  },
  {
   "cell_type": "markdown",
   "metadata": {},
   "source": [
    "Implement List comprehensions to produce the following lists.\n",
    "Write List comprehensions to produce the following Lists"
   ]
  },
  {
   "cell_type": "code",
   "execution_count": 2,
   "metadata": {},
   "outputs": [
    {
     "data": {
      "text/plain": [
       "['x', 'y', 'z', 'xx', 'yy', 'zz', 'xxx', 'yyy', 'zzz', 'xxxx', 'yyyy', 'zzzz']"
      ]
     },
     "execution_count": 2,
     "metadata": {},
     "output_type": "execute_result"
    }
   ],
   "source": [
    "lst_1=['x','y','z']\n",
    "lst_2=['xx','yy','zz']\n",
    "lst_3=['xxx','yyy','zzz']\n",
    "lst_4=['xxxx','yyyy','zzzz']\n",
    "matrix_1=[lst_1,lst_2,lst_3,lst_4]\n",
    "new_list=[]\n",
    "for i in range(0,4):\n",
    "    for j in range(0,3):\n",
    "        new_list.append(matrix_1[i][j])\n",
    "        \n",
    "new_list"
   ]
  },
  {
   "cell_type": "code",
   "execution_count": 4,
   "metadata": {},
   "outputs": [
    {
     "data": {
      "text/plain": [
       "['x', 'xx', 'xxx', 'xxxx', 'y', 'yy', 'yyy', 'yyyy', 'z', 'zz', 'zzz', 'zzzz']"
      ]
     },
     "execution_count": 4,
     "metadata": {},
     "output_type": "execute_result"
    }
   ],
   "source": [
    "new_list_1=[]\n",
    "for i in range(0,3):\n",
    "    for j in range(0,4):\n",
    "        new_list_1.append(matrix_1[j][i])\n",
    "        \n",
    "new_list_1"
   ]
  },
  {
   "cell_type": "code",
   "execution_count": 5,
   "metadata": {},
   "outputs": [
    {
     "name": "stdout",
     "output_type": "stream",
     "text": [
      "[[2, 3, 4, 5], [3, 4, 5, 6], [4, 5, 6, 7], [5, 6, 7, 8]]\n"
     ]
    }
   ],
   "source": [
    "list = [2,3,4,5]\n",
    "\n",
    "new_list=[ [ item +num for item in list] for num in range(0,4)]\n",
    "print(new_list)"
   ]
  },
  {
   "cell_type": "code",
   "execution_count": 6,
   "metadata": {},
   "outputs": [
    {
     "name": "stdout",
     "output_type": "stream",
     "text": [
      "[[2], [3], [4], [3], [4], [5], [4], [5], [6]]\n"
     ]
    }
   ],
   "source": [
    "first = [2,3,4,5,6]\n",
    "newlist=[]\n",
    "for i in range(0, len(first)):\n",
    "    if( i + 3 > len(first)):\n",
    "        \n",
    "        jlimit = len(first)\n",
    "    else:\n",
    "        jlimit = i+3\n",
    "      \n",
    "        for j in range(i, jlimit):\n",
    "            newlist.append([first[j]])\n",
    "print(newlist)"
   ]
  },
  {
   "cell_type": "code",
   "execution_count": 8,
   "metadata": {},
   "outputs": [
    {
     "name": "stdout",
     "output_type": "stream",
     "text": [
      "[(1, 1), (2, 1), (3, 1), (1, 2), (2, 2), (3, 2), (1, 3), (2, 3), (3, 3)]\n"
     ]
    }
   ],
   "source": [
    "list = [1,2,3]\n",
    "#new_list=[]\n",
    "new_list=[ (num,item) for item in list for num in range(1,4)]\n",
    "print(new_list)"
   ]
  },
  {
   "cell_type": "code",
   "execution_count": null,
   "metadata": {},
   "outputs": [],
   "source": []
  }
 ],
 "metadata": {
  "kernelspec": {
   "display_name": "Python 3",
   "language": "python",
   "name": "python3"
  },
  "language_info": {
   "codemirror_mode": {
    "name": "ipython",
    "version": 3
   },
   "file_extension": ".py",
   "mimetype": "text/x-python",
   "name": "python",
   "nbconvert_exporter": "python",
   "pygments_lexer": "ipython3",
   "version": "3.6.4"
  }
 },
 "nbformat": 4,
 "nbformat_minor": 2
}
